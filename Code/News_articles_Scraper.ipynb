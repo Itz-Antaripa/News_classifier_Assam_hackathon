{
  "nbformat": 4,
  "nbformat_minor": 0,
  "metadata": {
    "colab": {
      "name": "News_articles_Scraper.ipynb",
      "provenance": []
    },
    "kernelspec": {
      "name": "python3",
      "display_name": "Python 3"
    }
  },
  "cells": [
    {
      "cell_type": "markdown",
      "metadata": {
        "id": "wwcSbg1Rnhrh",
        "colab_type": "text"
      },
      "source": [
        "\n",
        "***Uncomment the line to install newspaper3k first***\n",
        "\n"
      ]
    },
    {
      "cell_type": "code",
      "metadata": {
        "id": "ajhMyK6-bRrL",
        "colab_type": "code",
        "colab": {}
      },
      "source": [
        "# ! pip install newspaper3k"
      ],
      "execution_count": 46,
      "outputs": []
    },
    {
      "cell_type": "code",
      "metadata": {
        "id": "XwdPRAmkOvNo",
        "colab_type": "code",
        "colab": {}
      },
      "source": [
        "# importing necessary libraries\n",
        "from bs4 import BeautifulSoup\n",
        "import requests\n",
        "import urllib\n",
        "import pandas as pd\n",
        "from newspaper import Article\n",
        "import pickle\n",
        "import re"
      ],
      "execution_count": 2,
      "outputs": []
    },
    {
      "cell_type": "code",
      "metadata": {
        "id": "AktNJdfUPlZM",
        "colab_type": "code",
        "colab": {}
      },
      "source": [
        "# Extracting links for all the pages (1 to 158) of boomlive fake news section\n",
        "fakearticle_links = []\n",
        "for i in range(1, 159):\n",
        "  url = 'https://www.boomlive.in/fake-news/' + str(i)\n",
        "  try:\n",
        "    # this might throw an exception if something goes wrong.\n",
        "    page=requests.get(url) \n",
        "\n",
        "    # send requests\n",
        "    page = requests.get(url)\n",
        "    soup = BeautifulSoup(page.text, 'html.parser')  \n",
        "\n",
        "    # Collecting all the links in a list\n",
        "    for content in soup.find_all('h2', attrs={'class':'entry-title'}):\n",
        "      link = content.find('a')\n",
        "      fakearticle_links.append(link.get('href')) \n",
        "  \n",
        "  # this describes what to do if an exception is thrown \n",
        "  except Exception as e:    \n",
        "    # get the exception information\n",
        "    error_type, error_obj, error_info = sys.exc_info()      \n",
        "    #print the link that cause the problem\n",
        "    print ('ERROR FOR LINK:',url)\n",
        "    #print error info and line that threw the exception                          \n",
        "    print (error_type, 'Line:', error_info.tb_lineno)\n",
        "    continue\n",
        "  "
      ],
      "execution_count": 3,
      "outputs": []
    },
    {
      "cell_type": "code",
      "metadata": {
        "id": "7RySM08K5ICs",
        "colab_type": "code",
        "colab": {}
      },
      "source": [
        "fakearticle_links[:5]"
      ],
      "execution_count": null,
      "outputs": []
    },
    {
      "cell_type": "code",
      "metadata": {
        "id": "0oexODsG5STe",
        "colab_type": "code",
        "colab": {
          "base_uri": "https://localhost:8080/",
          "height": 34
        },
        "outputId": "49385b53-19b3-4d1b-eed2-472cae789eb0"
      },
      "source": [
        "len(fakearticle_links)"
      ],
      "execution_count": 13,
      "outputs": [
        {
          "output_type": "execute_result",
          "data": {
            "text/plain": [
              "1893"
            ]
          },
          "metadata": {
            "tags": []
          },
          "execution_count": 13
        }
      ]
    },
    {
      "cell_type": "code",
      "metadata": {
        "id": "X-5GbV7F7gx6",
        "colab_type": "code",
        "colab": {
          "base_uri": "https://localhost:8080/",
          "height": 102
        },
        "outputId": "caed2427-1f18-46a5-c11c-36ef4f6f2e6d"
      },
      "source": [
        "fakearticle_links[1888:]"
      ],
      "execution_count": 6,
      "outputs": [
        {
          "output_type": "execute_result",
          "data": {
            "text/plain": [
              "['/fake-news-police-no-5-day-week-for-banks-on-cards/',\n",
              " '/fake-news-police-whatsapp-message-islamic-state-group-fake/',\n",
              " '/fake-news-police-twitter-video-of-jet-airways-aircraft-on-fire-is-fake/',\n",
              " '/google-launches-fact-check-feature-globally-to-fight-fake-news/',\n",
              " '/fake-news-or-real-news-media-with-an-agenda/']"
            ]
          },
          "metadata": {
            "tags": []
          },
          "execution_count": 6
        }
      ]
    },
    {
      "cell_type": "code",
      "metadata": {
        "id": "1P91gj-eKLVb",
        "colab_type": "code",
        "colab": {}
      },
      "source": [
        "import pandas as pd\n",
        "import numpy as np\n",
        "import matplotlib.pyplot as plt"
      ],
      "execution_count": 7,
      "outputs": []
    },
    {
      "cell_type": "markdown",
      "metadata": {
        "id": "L8RB1V7xwA2X",
        "colab_type": "text"
      },
      "source": [
        "We have to modify the links so that the links actually work as we can see that the string extracted is the last part of the url!\n",
        "\n",
        "**We have to add 'https://www.boomlive.in/fake-news' to the extracted links.**"
      ]
    },
    {
      "cell_type": "code",
      "metadata": {
        "id": "qBigi0fCv-uU",
        "colab_type": "code",
        "colab": {}
      },
      "source": [
        "# Modify the links so that it takes us to the particular website\n",
        "str1 = 'https://www.boomlive.in/fake-news'\n",
        "fakearticle_links = [str1+lnk for lnk in fakearticle_links]\n"
      ],
      "execution_count": 8,
      "outputs": []
    },
    {
      "cell_type": "code",
      "metadata": {
        "id": "Sco6gAsix3tl",
        "colab_type": "code",
        "colab": {
          "base_uri": "https://localhost:8080/",
          "height": 85
        },
        "outputId": "5a0f6fb9-a2d7-4cc2-be52-f3aaf83c617f"
      },
      "source": [
        "fakearticle_links[6:10]"
      ],
      "execution_count": 9,
      "outputs": [
        {
          "output_type": "execute_result",
          "data": {
            "text/plain": [
              "['https://www.boomlive.in/fake-news/fake-news/toi-ht-abp-news-fall-for-fake-account-impersonating-indrajit-chakraborty-9671',\n",
              " 'https://www.boomlive.in/fake-news/fake-news/did-sushant-singh-rajput-conceptualise-upcoming-mobile-game-fau-g-9666',\n",
              " 'https://www.boomlive.in/fake-news/fake-news/no-amartya-sen-did-not-say-pubg-ban-to-affect-indias-economy-9658',\n",
              " 'https://www.boomlive.in/fake-news/fake-news/video-of-bengaluru-woman-abusing-2-year-old-grandson-viral-as-mumbai-9657']"
            ]
          },
          "metadata": {
            "tags": []
          },
          "execution_count": 9
        }
      ]
    },
    {
      "cell_type": "markdown",
      "metadata": {
        "id": "xucBh7fSyBIF",
        "colab_type": "text"
      },
      "source": [
        "**The links are modified and is working :)**"
      ]
    },
    {
      "cell_type": "markdown",
      "metadata": {
        "id": "7QnolFp-yKlp",
        "colab_type": "text"
      },
      "source": [
        "***Creating a dataset of all the fake articles***"
      ]
    },
    {
      "cell_type": "code",
      "metadata": {
        "id": "hZrN-fWPygUw",
        "colab_type": "code",
        "colab": {}
      },
      "source": [
        "# Create a dataset for storing the news articles\n",
        "news_dataset = pd.DataFrame(fakearticle_links, columns=['URL'])"
      ],
      "execution_count": 37,
      "outputs": []
    },
    {
      "cell_type": "code",
      "metadata": {
        "id": "181ydS6G3BdW",
        "colab_type": "code",
        "colab": {
          "base_uri": "https://localhost:8080/",
          "height": 204
        },
        "outputId": "269b4cab-8567-4fb5-c85f-2fc995c1e5a8"
      },
      "source": [
        "news_dataset.head()"
      ],
      "execution_count": 38,
      "outputs": [
        {
          "output_type": "execute_result",
          "data": {
            "text/html": [
              "<div>\n",
              "<style scoped>\n",
              "    .dataframe tbody tr th:only-of-type {\n",
              "        vertical-align: middle;\n",
              "    }\n",
              "\n",
              "    .dataframe tbody tr th {\n",
              "        vertical-align: top;\n",
              "    }\n",
              "\n",
              "    .dataframe thead th {\n",
              "        text-align: right;\n",
              "    }\n",
              "</style>\n",
              "<table border=\"1\" class=\"dataframe\">\n",
              "  <thead>\n",
              "    <tr style=\"text-align: right;\">\n",
              "      <th></th>\n",
              "      <th>URL</th>\n",
              "    </tr>\n",
              "  </thead>\n",
              "  <tbody>\n",
              "    <tr>\n",
              "      <th>0</th>\n",
              "      <td>https://www.boomlive.in/fake-news/fake-news/cr...</td>\n",
              "    </tr>\n",
              "    <tr>\n",
              "      <th>1</th>\n",
              "      <td>https://www.boomlive.in/fake-news/fake-news/un...</td>\n",
              "    </tr>\n",
              "    <tr>\n",
              "      <th>2</th>\n",
              "      <td>https://www.boomlive.in/fake-news/fake-news/cr...</td>\n",
              "    </tr>\n",
              "    <tr>\n",
              "      <th>3</th>\n",
              "      <td>https://www.boomlive.in/fake-news/fake-news/no...</td>\n",
              "    </tr>\n",
              "    <tr>\n",
              "      <th>4</th>\n",
              "      <td>https://www.boomlive.in/fake-news/fake-news/20...</td>\n",
              "    </tr>\n",
              "  </tbody>\n",
              "</table>\n",
              "</div>"
            ],
            "text/plain": [
              "                                                 URL\n",
              "0  https://www.boomlive.in/fake-news/fake-news/cr...\n",
              "1  https://www.boomlive.in/fake-news/fake-news/un...\n",
              "2  https://www.boomlive.in/fake-news/fake-news/cr...\n",
              "3  https://www.boomlive.in/fake-news/fake-news/no...\n",
              "4  https://www.boomlive.in/fake-news/fake-news/20..."
            ]
          },
          "metadata": {
            "tags": []
          },
          "execution_count": 38
        }
      ]
    },
    {
      "cell_type": "code",
      "metadata": {
        "id": "51RJc1Oy2WbY",
        "colab_type": "code",
        "colab": {}
      },
      "source": [
        "title, text, summary, keywords, published_on, author = [], [], [], [], [], []   # Creating empty lists to store the data\n",
        "for Url in fakearticle_links:\n",
        "  article = Article(Url)\n",
        "\n",
        "  #Call the download and parse methods to download information\n",
        "  try:\n",
        "    article.download()\n",
        "    article.parse()\n",
        "    article.nlp()\n",
        "  except:\n",
        "    pass\n",
        "  \n",
        "  # Scrape the contents of article\n",
        "  title.append(article.title)                    # extracts the title of the article\n",
        "  text.append(article.text)                      # extracts the whole text of article\n",
        "  summary.append(article.summary)                # gives us a summary abou the article\n",
        "  keywords.append(', '.join(article.keywords))   # the main keywords used in it\n",
        "  published_on.append(article.publish_date)      # the date on which it was published\n",
        "  author.append(article.authors)                 # the authors of the article"
      ],
      "execution_count": 26,
      "outputs": []
    },
    {
      "cell_type": "markdown",
      "metadata": {
        "id": "F76iH9zah8Bo",
        "colab_type": "text"
      },
      "source": [
        "**Checking the lists created**"
      ]
    },
    {
      "cell_type": "code",
      "metadata": {
        "id": "0B2cjmJ1Btn1",
        "colab_type": "code",
        "colab": {
          "base_uri": "https://localhost:8080/",
          "height": 154
        },
        "outputId": "5fe013e0-6e58-47bf-9f99-23ad207a33c7"
      },
      "source": [
        "text[6]"
      ],
      "execution_count": 28,
      "outputs": [
        {
          "output_type": "execute_result",
          "data": {
            "application/vnd.google.colaboratory.intrinsic+json": {
              "type": "string"
            },
            "text/plain": [
              "'Several mainstream news outlets such as the Times of India, Hindustan Times and ABP News fell for a fake Twitter account impersonating actress Rhea Chakraborty\\'s father Indrajit Chakraborty to falsely claim that the latter was tweeting following his daughter\\'s arrest.\\n\\nThe Narcotics Control Bureau on Tuesday arrested Rhea Chakraborty for allegedly procuring drugs for late actor Sushant Singh Rajput. The NCB is investigating the drug links in Rajput\\'s death. The actor was found dead in his apartment on June 14, 2020 in Mumbai and the case has since been transferred to the Central Bureau of Investigation.\\n\\nNews outlets such as the Times of India, Hindustan Times and ABP News cited tweets from an impostor account pretending to be Indrajit Chakraborty.\\n\\n\\n\\n\\n\\nBelow is a screenshot of the Hindustan Times article.\\n\\n\\n\\n\\n\\n\\n\\n\\n\\nThe impostor account in a series of tweets blamed the judiciary and the media for the treatment meted out to his children post the death of Sushant Singh Rajput.\\n\\nThe fake account is neither verified nor does it contain a disclaimer in its bio that states it is a fan account.\\n\\n\\n\\n\\n\\n\\n\\n\\n\\nOne such tweet by the fake account states how Indrajit Chakraborty has been shattered after the arrest and contemplated ending his life. The text of the tweet reads, \"No father can bear injustice on his daughter. I should die #JusticeForRhea.\" (Here is the archive of the tweet).\\n\\nAnother tweet, where the impostor account is questioning Rhea Chakraborty\\'s trial by media was also cited in the articles. The tweet reads, \"The entire country is determined to send Rhea to the gallows despite no proof.\" (Original text in Hindi: बगैर किसी सबूत के पूरा देश रिया को फांसी पर लटकाने को तुला है#JusticeforRhea).\\n\\nThe ABP news article based on tweets of the fake account is headlined as \"Rhea Chakraborty\\'s Father Indrajit On Her Arrest: \\'All This Because Her Now Dead Boyfriend Smoked Weed?\" ABP News published two articles based on the impostor account\\'s tweets.\\n\\n\\n\\n\\n\\n\\n\\n\\n\\nThe second article is headlined as, \"Rhea Chakraborty\\'s Father Indrajit Says \\'I Should Die, No Father Can Bear Injustice On His Daughter\"\\n\\nOther websites that fell for the fake account include Sakal Times, Hindi daily Amar Ujala and entertainment website Pinkvilla.\\n\\n\\n\\nClick here for Sakal Times\\' archive, here for Hindustan Times archive, here for Times of India archive, here for Amar Ujala\\'s archive, Pinkvilla\\'s archive, here for India TV News\\' archive and Lokmat English\\'s archive. Click here for Zee News\\' archive.\\n\\nAlso Read:Did Sushant Singh Rajput Conceptualise Upcoming Mobile Game Fau-G?\\n\\n\\n\\nFact Check\\n\\n\\n\\nBOOM was able to ascertain that the account is an impostor one and has impersonated Chakraborty\\'s father. We scoured through old tweets and replies to the handle.\\n\\n\\n\\nWe found a reply to the handle from September 6, which showed that the user earlier had the username @WeWantRahuI (spelt with a capital I).\\n\\n\\n\\n\\n\\n\\n\\n\\n\\nClick here to view an archive of the tweet which indicates the same.\\n\\nThe same account, with the previous username @WeWantRahuI tweeted on June 8 urging netizens to increase his followers to 1500. A screenshot of the previous account was also posted with the tweet. According to the screenshot posted, the bio of the account reads, \"कहो दिल से कांग्रेस फिर से, राहुल गांधी फॉर प्रधानमंत्री राहुल गांधी जी को देश का अगला PM बनाने के लिए ज्यादा से ज्यादा सपोर्ट करने के लिए इस पेज को फॉलो करें।\" (Say from your heart, Congress again. Rahul Gandhi from prime minister. To make Rahul Gandhi ji the next PM and to support him more and more, follow this page)\\n\\nThe account, which was opened in December last year, has around 7000 followers. The edited bio now reads, \"Satyameva Jayate.\"\\n\\n\\n\\n\\n\\n8 More to go.... pic.twitter.com/3cFpI3V1XN — Indrajit Chakraborty (@IndrajitChakra) June 8, 2020\\n\\nराहुल जी की सोच को फॉलो करते है हम।\\n\\n\\n\\nहम सब है भाई भाई।\\n\\n\\n\\nसभी साथी एक दूसरे को फॉलो करें, जिससे कोंग्रेस का हाथ मजबूत हो🙏 — Indrajit Chakraborty (@IndrajitChakra) September 4, 2020\\n\\nBOOM found that the account\\'s previous tweets are mostly pro Congress and pro Rahul Gandhi.\\n\\n\\n\\n\\n\\n\\n\\nBOOM has also reached to to Chakraborty\\'s lawyer, Satish Manshinde to know if Indrajit Chakraborty is on any social media platforms. The article will be updated if we get response.\\n\\nPost our fact check, publishers including The Times of India, Zee News, Hindustan Times, Live Hindustan, Sakal, Amar Ujala, Pinkvilla, ABP News, Maharashtra Times have either deleted the story or issued corrections'"
            ]
          },
          "metadata": {
            "tags": []
          },
          "execution_count": 28
        }
      ]
    },
    {
      "cell_type": "code",
      "metadata": {
        "id": "QmFrYPz1gJl2",
        "colab_type": "code",
        "colab": {
          "base_uri": "https://localhost:8080/",
          "height": 35
        },
        "outputId": "474be8e5-2d78-4403-a6ef-263799e316be"
      },
      "source": [
        "keywords[1]"
      ],
      "execution_count": 33,
      "outputs": [
        {
          "output_type": "execute_result",
          "data": {
            "application/vnd.google.colaboratory.intrinsic+json": {
              "type": "string"
            },
            "text/plain": [
              "'jammu, video, sena, image, archive, post, kangana, unrelated, support, ranaut, singh, mumbai, cars, karni, viral, senas, visuals'"
            ]
          },
          "metadata": {
            "tags": []
          },
          "execution_count": 33
        }
      ]
    },
    {
      "cell_type": "code",
      "metadata": {
        "id": "8ZDEu1_CgPny",
        "colab_type": "code",
        "colab": {
          "base_uri": "https://localhost:8080/",
          "height": 34
        },
        "outputId": "b80f069a-9713-4637-83d2-922b6d615aa1"
      },
      "source": [
        "published_on[6]"
      ],
      "execution_count": 32,
      "outputs": [
        {
          "output_type": "execute_result",
          "data": {
            "text/plain": [
              "datetime.datetime(2020, 9, 9, 13, 24, 20, tzinfo=tzoffset(None, 19800))"
            ]
          },
          "metadata": {
            "tags": []
          },
          "execution_count": 32
        }
      ]
    },
    {
      "cell_type": "code",
      "metadata": {
        "id": "mCV5MJLngkwJ",
        "colab_type": "code",
        "colab": {
          "base_uri": "https://localhost:8080/",
          "height": 34
        },
        "outputId": "2434541b-42ff-42f8-f8c1-1ad224c1b637"
      },
      "source": [
        "author[6]"
      ],
      "execution_count": 34,
      "outputs": [
        {
          "output_type": "execute_result",
          "data": {
            "text/plain": [
              "['Swasti Chatterjee']"
            ]
          },
          "metadata": {
            "tags": []
          },
          "execution_count": 34
        }
      ]
    },
    {
      "cell_type": "code",
      "metadata": {
        "id": "NBUYn0XbhCPw",
        "colab_type": "code",
        "colab": {}
      },
      "source": [
        "# Adding the columns in the fake news dataset\n",
        "news_dataset['title'] = title\n",
        "news_dataset['text'] = text\n",
        "news_dataset['keywords'] = keywords\n",
        "news_dataset['published date'] = published_on\n",
        "news_dataset['author'] = author"
      ],
      "execution_count": 39,
      "outputs": []
    },
    {
      "cell_type": "code",
      "metadata": {
        "id": "DUrLIY-0g9g3",
        "colab_type": "code",
        "colab": {
          "base_uri": "https://localhost:8080/",
          "height": 289
        },
        "outputId": "b6997f08-0487-4cf7-b69d-de7116943354"
      },
      "source": [
        "# Check the first five columns of dataset created\n",
        "news_dataset.head()"
      ],
      "execution_count": 41,
      "outputs": [
        {
          "output_type": "execute_result",
          "data": {
            "text/html": [
              "<div>\n",
              "<style scoped>\n",
              "    .dataframe tbody tr th:only-of-type {\n",
              "        vertical-align: middle;\n",
              "    }\n",
              "\n",
              "    .dataframe tbody tr th {\n",
              "        vertical-align: top;\n",
              "    }\n",
              "\n",
              "    .dataframe thead th {\n",
              "        text-align: right;\n",
              "    }\n",
              "</style>\n",
              "<table border=\"1\" class=\"dataframe\">\n",
              "  <thead>\n",
              "    <tr style=\"text-align: right;\">\n",
              "      <th></th>\n",
              "      <th>URL</th>\n",
              "      <th>title</th>\n",
              "      <th>text</th>\n",
              "      <th>keywords</th>\n",
              "      <th>published date</th>\n",
              "      <th>author</th>\n",
              "    </tr>\n",
              "  </thead>\n",
              "  <tbody>\n",
              "    <tr>\n",
              "      <th>0</th>\n",
              "      <td>https://www.boomlive.in/fake-news/fake-news/cr...</td>\n",
              "      <td>Cropped Image Of Asansol Municipality Signboar...</td>\n",
              "      <td>A cropped image of a signboard of Asansol Muni...</td>\n",
              "      <td>false, image, claims, written, text, hindi, as...</td>\n",
              "      <td>2020-09-11 14:55:25+05:30</td>\n",
              "      <td>[Sk Badiruddin]</td>\n",
              "    </tr>\n",
              "    <tr>\n",
              "      <th>1</th>\n",
              "      <td>https://www.boomlive.in/fake-news/fake-news/un...</td>\n",
              "      <td>Unrelated Visuals Viral As Karni Sena's Show O...</td>\n",
              "      <td>Old unrelated images from different states inc...</td>\n",
              "      <td>jammu, video, sena, image, archive, post, kang...</td>\n",
              "      <td>2020-09-11 14:37:28+05:30</td>\n",
              "      <td>[Dilip Unnikrishnan]</td>\n",
              "    </tr>\n",
              "    <tr>\n",
              "      <th>2</th>\n",
              "      <td>https://www.boomlive.in/fake-news/fake-news/cr...</td>\n",
              "      <td>Cropped Video Of A Multi-Faith Ceremony For Ra...</td>\n",
              "      <td>A video of a priest reading a verse from the B...</td>\n",
              "      <td>read, jets, misleading, video, religious, shar...</td>\n",
              "      <td>2020-09-11 14:16:32+05:30</td>\n",
              "      <td>[Anmol Alphonso]</td>\n",
              "    </tr>\n",
              "    <tr>\n",
              "      <th>3</th>\n",
              "      <td>https://www.boomlive.in/fake-news/fake-news/no...</td>\n",
              "      <td>No, This Is Not A BJP Leader Threatening Judge...</td>\n",
              "      <td>A video from a 2015 episode of a dance reality...</td>\n",
              "      <td>bjp, episode, video, father, threatening, vira...</td>\n",
              "      <td>2020-09-10 21:29:18+05:30</td>\n",
              "      <td>[Anmol Alphonso]</td>\n",
              "    </tr>\n",
              "    <tr>\n",
              "      <th>4</th>\n",
              "      <td>https://www.boomlive.in/fake-news/fake-news/20...</td>\n",
              "      <td>2017 Video Of Teen Assaulted By A Man In Andhr...</td>\n",
              "      <td>A 2017 video of a man groping and assaulting a...</td>\n",
              "      <td>hindus, হনদ, 2017, video, peddled, kerala, man...</td>\n",
              "      <td>2020-09-10 20:03:03+05:30</td>\n",
              "      <td>[Suhash Bhattacharya]</td>\n",
              "    </tr>\n",
              "  </tbody>\n",
              "</table>\n",
              "</div>"
            ],
            "text/plain": [
              "                                                 URL  ...                 author\n",
              "0  https://www.boomlive.in/fake-news/fake-news/cr...  ...        [Sk Badiruddin]\n",
              "1  https://www.boomlive.in/fake-news/fake-news/un...  ...   [Dilip Unnikrishnan]\n",
              "2  https://www.boomlive.in/fake-news/fake-news/cr...  ...       [Anmol Alphonso]\n",
              "3  https://www.boomlive.in/fake-news/fake-news/no...  ...       [Anmol Alphonso]\n",
              "4  https://www.boomlive.in/fake-news/fake-news/20...  ...  [Suhash Bhattacharya]\n",
              "\n",
              "[5 rows x 6 columns]"
            ]
          },
          "metadata": {
            "tags": []
          },
          "execution_count": 41
        }
      ]
    },
    {
      "cell_type": "markdown",
      "metadata": {
        "id": "SuLdaPfTigcb",
        "colab_type": "text"
      },
      "source": [
        "**Converting the dataset to a csv file**"
      ]
    },
    {
      "cell_type": "code",
      "metadata": {
        "id": "OBB9t8hwifOU",
        "colab_type": "code",
        "colab": {}
      },
      "source": [
        "news_dataset.to_csv('Fake_news.csv')"
      ],
      "execution_count": 42,
      "outputs": []
    },
    {
      "cell_type": "markdown",
      "metadata": {
        "id": "P6rTLF74jEVf",
        "colab_type": "text"
      },
      "source": [
        "**Reading the csv file**"
      ]
    },
    {
      "cell_type": "code",
      "metadata": {
        "id": "LwD-yE21jCwo",
        "colab_type": "code",
        "colab": {}
      },
      "source": [
        "df = pd.read_csv('Fake_news.csv')"
      ],
      "execution_count": 43,
      "outputs": []
    },
    {
      "cell_type": "code",
      "metadata": {
        "id": "CNrmP-Z5jPWY",
        "colab_type": "code",
        "colab": {
          "base_uri": "https://localhost:8080/",
          "height": 306
        },
        "outputId": "b2ff9ac0-6fef-42f3-a1b5-f4224cedf23e"
      },
      "source": [
        "# Checking the last 5 rows of the csv file\n",
        "df.tail(5)"
      ],
      "execution_count": 44,
      "outputs": [
        {
          "output_type": "execute_result",
          "data": {
            "text/html": [
              "<div>\n",
              "<style scoped>\n",
              "    .dataframe tbody tr th:only-of-type {\n",
              "        vertical-align: middle;\n",
              "    }\n",
              "\n",
              "    .dataframe tbody tr th {\n",
              "        vertical-align: top;\n",
              "    }\n",
              "\n",
              "    .dataframe thead th {\n",
              "        text-align: right;\n",
              "    }\n",
              "</style>\n",
              "<table border=\"1\" class=\"dataframe\">\n",
              "  <thead>\n",
              "    <tr style=\"text-align: right;\">\n",
              "      <th></th>\n",
              "      <th>Unnamed: 0</th>\n",
              "      <th>URL</th>\n",
              "      <th>title</th>\n",
              "      <th>text</th>\n",
              "      <th>keywords</th>\n",
              "      <th>published date</th>\n",
              "      <th>author</th>\n",
              "    </tr>\n",
              "  </thead>\n",
              "  <tbody>\n",
              "    <tr>\n",
              "      <th>1888</th>\n",
              "      <td>1888</td>\n",
              "      <td>https://www.boomlive.in/fake-news/fake-news-po...</td>\n",
              "      <td>Fake News Police: No 5-Day Week For Banks On C...</td>\n",
              "      <td>People queue to deposit inside a bank in Allah...</td>\n",
              "      <td>notification, week, fake, 5day, bank, message,...</td>\n",
              "      <td>2017-04-13 16:24:42+05:30</td>\n",
              "      <td>['Jency Jacob']</td>\n",
              "    </tr>\n",
              "    <tr>\n",
              "      <th>1889</th>\n",
              "      <td>1889</td>\n",
              "      <td>https://www.boomlive.in/fake-news/fake-news-po...</td>\n",
              "      <td>Fake News Police: 'Firdaus We Ascend' Islamic ...</td>\n",
              "      <td>A WhatsApp message warning people about joinin...</td>\n",
              "      <td>fake, read, report, user, group, message, user...</td>\n",
              "      <td>2017-04-12 19:52:45+05:30</td>\n",
              "      <td>['A Staff Writer']</td>\n",
              "    </tr>\n",
              "    <tr>\n",
              "      <th>1890</th>\n",
              "      <td>1890</td>\n",
              "      <td>https://www.boomlive.in/fake-news/fake-news-po...</td>\n",
              "      <td>Fake News Police: Twitter Video Of Jet Airways...</td>\n",
              "      <td>Screenshot of a Twitter user page\\n\\nThis vide...</td>\n",
              "      <td>fake, twitter, video, airways, jet, aircraft, ...</td>\n",
              "      <td>2017-04-12 16:22:58+05:30</td>\n",
              "      <td>['A Staff Writer']</td>\n",
              "    </tr>\n",
              "    <tr>\n",
              "      <th>1891</th>\n",
              "      <td>1891</td>\n",
              "      <td>https://www.boomlive.in/fake-news/google-launc...</td>\n",
              "      <td>Google Takes On Fake News With New Fact Check ...</td>\n",
              "      <td>Tech major Google is the latest to tackle the ...</td>\n",
              "      <td>fake, search, company, google, claim, users, i...</td>\n",
              "      <td>2017-04-08 11:16:09+05:30</td>\n",
              "      <td>['A Staff Writer']</td>\n",
              "    </tr>\n",
              "    <tr>\n",
              "      <th>1892</th>\n",
              "      <td>1892</td>\n",
              "      <td>https://www.boomlive.in/fake-news/fake-news-or...</td>\n",
              "      <td>Fake News Or Real News? Media With An Agenda</td>\n",
              "      <td>There is a sizeable shift in perception going ...</td>\n",
              "      <td>fake, agenda, london, south, issue, world, rea...</td>\n",
              "      <td>2017-04-03 18:25:44+05:30</td>\n",
              "      <td>['Siddhartha Dubey']</td>\n",
              "    </tr>\n",
              "  </tbody>\n",
              "</table>\n",
              "</div>"
            ],
            "text/plain": [
              "      Unnamed: 0  ...                author\n",
              "1888        1888  ...       ['Jency Jacob']\n",
              "1889        1889  ...    ['A Staff Writer']\n",
              "1890        1890  ...    ['A Staff Writer']\n",
              "1891        1891  ...    ['A Staff Writer']\n",
              "1892        1892  ...  ['Siddhartha Dubey']\n",
              "\n",
              "[5 rows x 7 columns]"
            ]
          },
          "metadata": {
            "tags": []
          },
          "execution_count": 44
        }
      ]
    },
    {
      "cell_type": "markdown",
      "metadata": {
        "id": "Pv4dvhKWkPKO",
        "colab_type": "text"
      },
      "source": [
        "**Download the csv file in local machine**"
      ]
    },
    {
      "cell_type": "code",
      "metadata": {
        "id": "jvwmrMbZjcvf",
        "colab_type": "code",
        "colab": {
          "base_uri": "https://localhost:8080/",
          "height": 17
        },
        "outputId": "23a8f430-8e02-40cd-f6a8-5b7f42f2a2b6"
      },
      "source": [
        "from google.colab import files\n",
        "files.download('Fake_news.csv')"
      ],
      "execution_count": 45,
      "outputs": [
        {
          "output_type": "display_data",
          "data": {
            "application/javascript": [
              "\n",
              "    async function download(id, filename, size) {\n",
              "      if (!google.colab.kernel.accessAllowed) {\n",
              "        return;\n",
              "      }\n",
              "      const div = document.createElement('div');\n",
              "      const label = document.createElement('label');\n",
              "      label.textContent = `Downloading \"${filename}\": `;\n",
              "      div.appendChild(label);\n",
              "      const progress = document.createElement('progress');\n",
              "      progress.max = size;\n",
              "      div.appendChild(progress);\n",
              "      document.body.appendChild(div);\n",
              "\n",
              "      const buffers = [];\n",
              "      let downloaded = 0;\n",
              "\n",
              "      const channel = await google.colab.kernel.comms.open(id);\n",
              "      // Send a message to notify the kernel that we're ready.\n",
              "      channel.send({})\n",
              "\n",
              "      for await (const message of channel.messages) {\n",
              "        // Send a message to notify the kernel that we're ready.\n",
              "        channel.send({})\n",
              "        if (message.buffers) {\n",
              "          for (const buffer of message.buffers) {\n",
              "            buffers.push(buffer);\n",
              "            downloaded += buffer.byteLength;\n",
              "            progress.value = downloaded;\n",
              "          }\n",
              "        }\n",
              "      }\n",
              "      const blob = new Blob(buffers, {type: 'application/binary'});\n",
              "      const a = document.createElement('a');\n",
              "      a.href = window.URL.createObjectURL(blob);\n",
              "      a.download = filename;\n",
              "      div.appendChild(a);\n",
              "      a.click();\n",
              "      div.remove();\n",
              "    }\n",
              "  "
            ],
            "text/plain": [
              "<IPython.core.display.Javascript object>"
            ]
          },
          "metadata": {
            "tags": []
          }
        },
        {
          "output_type": "display_data",
          "data": {
            "application/javascript": [
              "download(\"download_b0772046-511a-4294-abe2-0b88c447572b\", \"Fake_news.csv\", 6372482)"
            ],
            "text/plain": [
              "<IPython.core.display.Javascript object>"
            ]
          },
          "metadata": {
            "tags": []
          }
        }
      ]
    }
  ]
}